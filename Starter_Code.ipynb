{
 "cells": [
  {
   "cell_type": "code",
   "execution_count": 22,
   "id": "bedfd927",
   "metadata": {},
   "outputs": [],
   "source": [
    "import pandas as pd\n",
    "from config import api_key\n",
    "import requests\n",
    "\n",
    "# api key&commodity_desc=CORN&year__GE=2010&state_alpha=VA \n",
    "# Set base URL & define static paramters\n",
    "url = f\"https://quickstats.nass.usda.gov/api/api_GET/\"\n",
    "output_type = \"csv\"\n",
    "source = \"CENSUS\"\n",
    "parameters = \"x\"\n",
    "\n",
    "# Build URL\n",
    "# Reference list of parameters: https://quickstats.nass.usda.gov/api#param_define\n",
    "query_url = f\"{url}?key={api_key}&{parameters}&source_desc={source}&format={output_type}\""
   ]
  },
  {
   "cell_type": "code",
   "execution_count": null,
   "id": "7bb8bbbb",
   "metadata": {},
   "outputs": [],
   "source": []
  }
 ],
 "metadata": {
  "kernelspec": {
   "display_name": "Python 3 (ipykernel)",
   "language": "python",
   "name": "python3"
  },
  "language_info": {
   "codemirror_mode": {
    "name": "ipython",
    "version": 3
   },
   "file_extension": ".py",
   "mimetype": "text/x-python",
   "name": "python",
   "nbconvert_exporter": "python",
   "pygments_lexer": "ipython3",
   "version": "3.11.5"
  }
 },
 "nbformat": 4,
 "nbformat_minor": 5
}
