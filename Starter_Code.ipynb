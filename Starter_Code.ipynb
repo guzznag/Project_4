{
 "cells": [
  {
   "cell_type": "code",
   "execution_count": 8,
   "id": "bedfd927",
   "metadata": {},
   "outputs": [],
   "source": [
    "import pandas as pd\n",
    "from config import api_key\n",
    "import requests\n",
    "\n",
    "# Set base URL & define static paramters\n",
    "url = f\"https://quickstats.nass.usda.gov/api/\"\n",
    "output_type = \"json\"\n",
    "source = \"CENSUS\"\n",
    "parameters = \"commodity_desc=CORN&year=2022\"\n",
    "\n",
    "# Build URL - list of parameters: https://quickstats.nass.usda.gov/api#param_define\n",
    "get_url = f\"{url}api_GET/?key={api_key}&{parameters}&source_desc={source}&format={output_type}\"\n",
    "count_url = f\"{url}get_counts/?key={api_key}&{parameters}&source_desc={source}&format={output_type}\"\n",
    "param_url = f\"{url}get_param_values/?key={api_key}/&param=\"\n",
    "# for each region, in set of regions\n"
   ]
  },
  {
   "cell_type": "code",
   "execution_count": 9,
   "id": "7bb8bbbb",
   "metadata": {},
   "outputs": [
    {
     "name": "stdout",
     "output_type": "stream",
     "text": [
      "{'error': ['unauthorized']}\n"
     ]
    }
   ],
   "source": [
    "crop_types = requests.get(param_url + \"commodity_desc\").json()\n",
    "print(crop_types)"
   ]
  },
  {
   "cell_type": "code",
   "execution_count": null,
   "id": "517138a8",
   "metadata": {},
   "outputs": [],
   "source": []
  }
 ],
 "metadata": {
  "kernelspec": {
   "display_name": "Python 3 (ipykernel)",
   "language": "python",
   "name": "python3"
  },
  "language_info": {
   "codemirror_mode": {
    "name": "ipython",
    "version": 3
   },
   "file_extension": ".py",
   "mimetype": "text/x-python",
   "name": "python",
   "nbconvert_exporter": "python",
   "pygments_lexer": "ipython3",
   "version": "3.10.13"
  }
 },
 "nbformat": 4,
 "nbformat_minor": 5
}
